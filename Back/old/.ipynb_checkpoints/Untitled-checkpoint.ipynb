{
 "cells": [
  {
   "cell_type": "code",
   "execution_count": 11,
   "metadata": {},
   "outputs": [
    {
     "name": "stdout",
     "output_type": "stream",
     "text": [
      "<Response [200]>\n",
      "{\"data\":\"{\\\"result\\\":[{\\\"OK\\\":\\\"1611384854\\\",\\\"USER_NAME\\\":\\\"\\\"}]}\"}\n"
     ]
    }
   ],
   "source": [
    "import json\n",
    "import requests\n",
    "url = \"http://ai.allitc.com:8080/cbhs_web/login.do\"\n",
    "\n",
    "\n",
    "data = '''{\n",
    "  \"userId\":161138,\n",
    "  \"userPw\":970728\n",
    "}'''\n",
    "\n",
    "jsonObject = json.loads(data)\n",
    "\n",
    "response = requests.post(url=url, json=jsonObject)\n",
    "print(response)\n",
    "\n",
    "\n",
    "print(response.text)\n"
   ]
  },
  {
   "cell_type": "code",
   "execution_count": null,
   "metadata": {},
   "outputs": [],
   "source": []
  }
 ],
 "metadata": {
  "kernelspec": {
   "display_name": "Python 3",
   "language": "python",
   "name": "python3"
  },
  "language_info": {
   "codemirror_mode": {
    "name": "ipython",
    "version": 3
   },
   "file_extension": ".py",
   "mimetype": "text/x-python",
   "name": "python",
   "nbconvert_exporter": "python",
   "pygments_lexer": "ipython3",
   "version": "3.8.5"
  }
 },
 "nbformat": 4,
 "nbformat_minor": 4
}
